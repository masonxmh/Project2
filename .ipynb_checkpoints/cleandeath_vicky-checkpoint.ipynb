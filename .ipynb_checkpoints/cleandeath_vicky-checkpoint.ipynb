{
 "cells": [
  {
   "cell_type": "code",
   "execution_count": 1,
   "metadata": {},
   "outputs": [],
   "source": [
    "import json\n",
    "import requests\n",
    "import pandas as pd\n",
    "from sqlalchemy import create_engine\n",
    "# from collections import defaultdict"
   ]
  },
  {
   "cell_type": "code",
   "execution_count": 2,
   "metadata": {},
   "outputs": [],
   "source": [
    "df_wuhan_sex_death = pd.read_csv(\"wuhan.csv\")"
   ]
  },
  {
   "cell_type": "code",
   "execution_count": 3,
   "metadata": {},
   "outputs": [],
   "source": [
    "bins = [1,10,20,30,40,50,60,70,80,90,100]\n",
    "sex_groups = df_wuhan_sex_death.groupby(['Sex', pd.cut(df_wuhan_sex_death.Age, bins)])\n",
    "df_sex_death = sex_groups.size()"
   ]
  },
  {
   "cell_type": "code",
   "execution_count": 4,
   "metadata": {},
   "outputs": [],
   "source": [
    "df_sex_death = pd.DataFrame(df_sex_death)\n",
    "df_sex_death = df_sex_death.reset_index(level=[0,1])"
   ]
  },
  {
   "cell_type": "code",
   "execution_count": 5,
   "metadata": {},
   "outputs": [],
   "source": [
    "new_df_Female_death = df_sex_death.head(4)\n",
    "new_df_Male_death = df_sex_death.tail(6)\n",
    "new_df_final_sex_death = pd.merge(new_df_Male_death, new_df_Female_death,on='Age', how=\"outer\")"
   ]
  },
  {
   "cell_type": "code",
   "execution_count": 6,
   "metadata": {},
   "outputs": [],
   "source": [
    "new_df_final_sex_death['Sex_y'] = \"Female\"\n",
    "new_df_final_sex_death['0_y'].fillna(0, inplace=True)\n",
    "new_df_final_sex_death['Total'] = new_df_final_sex_death['0_x']+new_df_final_sex_death['0_y']\n",
    "new_df_final_sex_death = new_df_final_sex_death.rename(columns={\"Sex_x\": \"Male\", \n",
    "                                                                \"0_x\": \"Male_death\", \n",
    "                                                                \"Sex_y\": \"Female\",\n",
    "                                                                \"0_y\": \"Female_death\",\n",
    "                                                                \"Total\": \"Total_death\"})"
   ]
  },
  {
   "cell_type": "code",
   "execution_count": 7,
   "metadata": {},
   "outputs": [],
   "source": [
    "new_df_final_sex_death = new_df_final_sex_death[['Age','Female','Female_death','Male',\"Male_death\",\"Total_death\"]]\n",
    "pd.options.display.float_format = '{:,.0f}'.format"
   ]
  },
  {
   "cell_type": "code",
   "execution_count": 8,
   "metadata": {},
   "outputs": [
    {
     "data": {
      "text/html": [
       "<div>\n",
       "<style scoped>\n",
       "    .dataframe tbody tr th:only-of-type {\n",
       "        vertical-align: middle;\n",
       "    }\n",
       "\n",
       "    .dataframe tbody tr th {\n",
       "        vertical-align: top;\n",
       "    }\n",
       "\n",
       "    .dataframe thead th {\n",
       "        text-align: right;\n",
       "    }\n",
       "</style>\n",
       "<table border=\"1\" class=\"dataframe\">\n",
       "  <thead>\n",
       "    <tr style=\"text-align: right;\">\n",
       "      <th></th>\n",
       "      <th>Age</th>\n",
       "      <th>Female</th>\n",
       "      <th>Female_death</th>\n",
       "      <th>Male</th>\n",
       "      <th>Male_death</th>\n",
       "      <th>Total_death</th>\n",
       "    </tr>\n",
       "  </thead>\n",
       "  <tbody>\n",
       "    <tr>\n",
       "      <td>0</td>\n",
       "      <td>30-40</td>\n",
       "      <td>Female</td>\n",
       "      <td>0</td>\n",
       "      <td>Male</td>\n",
       "      <td>2</td>\n",
       "      <td>2</td>\n",
       "    </tr>\n",
       "    <tr>\n",
       "      <td>1</td>\n",
       "      <td>40-50</td>\n",
       "      <td>Female</td>\n",
       "      <td>1</td>\n",
       "      <td>Male</td>\n",
       "      <td>1</td>\n",
       "      <td>2</td>\n",
       "    </tr>\n",
       "    <tr>\n",
       "      <td>2</td>\n",
       "      <td>50-60</td>\n",
       "      <td>Female</td>\n",
       "      <td>0</td>\n",
       "      <td>Male</td>\n",
       "      <td>4</td>\n",
       "      <td>4</td>\n",
       "    </tr>\n",
       "    <tr>\n",
       "      <td>3</td>\n",
       "      <td>60-70</td>\n",
       "      <td>Female</td>\n",
       "      <td>6</td>\n",
       "      <td>Male</td>\n",
       "      <td>9</td>\n",
       "      <td>15</td>\n",
       "    </tr>\n",
       "    <tr>\n",
       "      <td>4</td>\n",
       "      <td>70-80</td>\n",
       "      <td>Female</td>\n",
       "      <td>5</td>\n",
       "      <td>Male</td>\n",
       "      <td>8</td>\n",
       "      <td>13</td>\n",
       "    </tr>\n",
       "    <tr>\n",
       "      <td>5</td>\n",
       "      <td>80-90</td>\n",
       "      <td>Female</td>\n",
       "      <td>3</td>\n",
       "      <td>Male</td>\n",
       "      <td>9</td>\n",
       "      <td>12</td>\n",
       "    </tr>\n",
       "  </tbody>\n",
       "</table>\n",
       "</div>"
      ],
      "text/plain": [
       "     Age  Female  Female_death  Male  Male_death  Total_death\n",
       "0  30-40  Female             0  Male           2            2\n",
       "1  40-50  Female             1  Male           1            2\n",
       "2  50-60  Female             0  Male           4            4\n",
       "3  60-70  Female             6  Male           9           15\n",
       "4  70-80  Female             5  Male           8           13\n",
       "5  80-90  Female             3  Male           9           12"
      ]
     },
     "execution_count": 8,
     "metadata": {},
     "output_type": "execute_result"
    }
   ],
   "source": [
    "new_df_final_sex_death.index = ['30-40','40-50','50-60','60-70','70-80','80-90']\n",
    "new_df_final_sex_death = new_df_final_sex_death[['Female','Female_death','Male',\"Male_death\",\"Total_death\"]]\n",
    "new_df_final_sex_death = new_df_final_sex_death.reset_index()\n",
    "new_df_final_sex_death = new_df_final_sex_death.rename(columns={\"index\": \"Age\"})\n",
    "new_df_final_sex_death"
   ]
  },
  {
   "cell_type": "code",
   "execution_count": 9,
   "metadata": {},
   "outputs": [],
   "source": [
    "# export df to sqlite\n",
    "engine = create_engine('sqlite:///wuhan_pneumonia.sqlite')\n",
    "new_df_final_sex_death.to_sql('Sex_Death', engine, index=False, if_exists='replace')"
   ]
  },
  {
   "cell_type": "code",
   "execution_count": 10,
   "metadata": {},
   "outputs": [
    {
     "data": {
      "text/html": [
       "<div>\n",
       "<style scoped>\n",
       "    .dataframe tbody tr th:only-of-type {\n",
       "        vertical-align: middle;\n",
       "    }\n",
       "\n",
       "    .dataframe tbody tr th {\n",
       "        vertical-align: top;\n",
       "    }\n",
       "\n",
       "    .dataframe thead th {\n",
       "        text-align: right;\n",
       "    }\n",
       "</style>\n",
       "<table border=\"1\" class=\"dataframe\">\n",
       "  <thead>\n",
       "    <tr style=\"text-align: right;\">\n",
       "      <th></th>\n",
       "      <th>Age</th>\n",
       "      <th>Female</th>\n",
       "      <th>Female_death</th>\n",
       "      <th>Male</th>\n",
       "      <th>Male_death</th>\n",
       "      <th>Total_death</th>\n",
       "    </tr>\n",
       "  </thead>\n",
       "  <tbody>\n",
       "    <tr>\n",
       "      <td>0</td>\n",
       "      <td>30-40</td>\n",
       "      <td>Female</td>\n",
       "      <td>0</td>\n",
       "      <td>Male</td>\n",
       "      <td>2</td>\n",
       "      <td>2</td>\n",
       "    </tr>\n",
       "    <tr>\n",
       "      <td>1</td>\n",
       "      <td>40-50</td>\n",
       "      <td>Female</td>\n",
       "      <td>1</td>\n",
       "      <td>Male</td>\n",
       "      <td>1</td>\n",
       "      <td>2</td>\n",
       "    </tr>\n",
       "    <tr>\n",
       "      <td>2</td>\n",
       "      <td>50-60</td>\n",
       "      <td>Female</td>\n",
       "      <td>0</td>\n",
       "      <td>Male</td>\n",
       "      <td>4</td>\n",
       "      <td>4</td>\n",
       "    </tr>\n",
       "    <tr>\n",
       "      <td>3</td>\n",
       "      <td>60-70</td>\n",
       "      <td>Female</td>\n",
       "      <td>6</td>\n",
       "      <td>Male</td>\n",
       "      <td>9</td>\n",
       "      <td>15</td>\n",
       "    </tr>\n",
       "    <tr>\n",
       "      <td>4</td>\n",
       "      <td>70-80</td>\n",
       "      <td>Female</td>\n",
       "      <td>5</td>\n",
       "      <td>Male</td>\n",
       "      <td>8</td>\n",
       "      <td>13</td>\n",
       "    </tr>\n",
       "    <tr>\n",
       "      <td>5</td>\n",
       "      <td>80-90</td>\n",
       "      <td>Female</td>\n",
       "      <td>3</td>\n",
       "      <td>Male</td>\n",
       "      <td>9</td>\n",
       "      <td>12</td>\n",
       "    </tr>\n",
       "  </tbody>\n",
       "</table>\n",
       "</div>"
      ],
      "text/plain": [
       "     Age  Female  Female_death  Male  Male_death  Total_death\n",
       "0  30-40  Female             0  Male           2            2\n",
       "1  40-50  Female             1  Male           1            2\n",
       "2  50-60  Female             0  Male           4            4\n",
       "3  60-70  Female             6  Male           9           15\n",
       "4  70-80  Female             5  Male           8           13\n",
       "5  80-90  Female             3  Male           9           12"
      ]
     },
     "execution_count": 10,
     "metadata": {},
     "output_type": "execute_result"
    }
   ],
   "source": [
    "new_df_final_sex_death = pd.read_sql_query('SELECT * FROM Sex_Death',engine)\n",
    "new_df_final_sex_death"
   ]
  },
  {
   "cell_type": "code",
   "execution_count": null,
   "metadata": {},
   "outputs": [],
   "source": []
  }
 ],
 "metadata": {
  "kernelspec": {
   "display_name": "Python 3",
   "language": "python",
   "name": "python3"
  },
  "language_info": {
   "codemirror_mode": {
    "name": "ipython",
    "version": 3
   },
   "file_extension": ".py",
   "mimetype": "text/x-python",
   "name": "python",
   "nbconvert_exporter": "python",
   "pygments_lexer": "ipython3",
   "version": "3.7.4"
  }
 },
 "nbformat": 4,
 "nbformat_minor": 4
}
