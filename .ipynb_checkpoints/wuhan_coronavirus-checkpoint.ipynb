{
 "cells": [
  {
   "cell_type": "code",
   "execution_count": 1,
   "metadata": {},
   "outputs": [],
   "source": [
    "import pandas as pd\n",
    "# Python SQL toolkit and Object Relational Mapper\n",
    "import sqlalchemy\n",
    "from sqlalchemy.ext.automap import automap_base\n",
    "from sqlalchemy.orm import Session\n",
    "from sqlalchemy import create_engine, func\n",
    "from flask import Flask, jsonify"
   ]
  },
  {
   "cell_type": "code",
   "execution_count": 2,
   "metadata": {},
   "outputs": [],
   "source": [
    "engine = create_engine(\"sqlite:///wuhan_pneumonia.sqlite\")"
   ]
  },
  {
   "cell_type": "code",
   "execution_count": 3,
   "metadata": {},
   "outputs": [],
   "source": [
    "# reflect an existing database into a new model\n",
    "Base = automap_base()\n",
    "# reflect the tables\n",
    "Base.prepare(engine, reflect=True)"
   ]
  },
  {
   "cell_type": "code",
   "execution_count": 4,
   "metadata": {},
   "outputs": [],
   "source": [
    "Summary = Base.classes.summary"
   ]
  },
  {
   "cell_type": "code",
   "execution_count": 5,
   "metadata": {},
   "outputs": [],
   "source": [
    "session = Session(engine)"
   ]
  },
  {
   "cell_type": "code",
   "execution_count": 7,
   "metadata": {},
   "outputs": [],
   "source": [
    "results = session.query(Summary.Count,Summary.Total).all()\n",
    "session.close()"
   ]
  },
  {
   "cell_type": "code",
   "execution_count": 8,
   "metadata": {},
   "outputs": [
    {
     "data": {
      "text/plain": [
       "[('confirmedCount', 17238),\n",
       " ('suspectedCount', 21558),\n",
       " ('curedCount', 475),\n",
       " ('deadCount', 361)]"
      ]
     },
     "execution_count": 8,
     "metadata": {},
     "output_type": "execute_result"
    }
   ],
   "source": [
    "results"
   ]
  },
  {
   "cell_type": "code",
   "execution_count": null,
   "metadata": {},
   "outputs": [],
   "source": []
  },
  {
   "cell_type": "code",
   "execution_count": 9,
   "metadata": {},
   "outputs": [],
   "source": [
    "China_realtime = Base.classes.Great_China"
   ]
  },
  {
   "cell_type": "code",
   "execution_count": 73,
   "metadata": {},
   "outputs": [
    {
     "data": {
      "text/plain": [
       "[('Tibet', 1, 0, 0, 0, 'China', 29.65, 91.1),\n",
       " ('Macao', 8, 0, 0, 0, 'China', 22.1987, 113.5439),\n",
       " ('Taiwan', 10, 0, 0, 0, 'China', 23.6978, 120.9605),\n",
       " ('Qinghai', 11, 0, 0, 0, 'China', 36.625541, 101.75739),\n",
       " ('Hong Kong', 14, 0, 0, 0, 'China', 22.3193, 114.1694),\n",
       " ('Xinjiang', 21, 0, 0, 0, 'China', 43.807347, 87.63050600000001),\n",
       " ('Jilin', 23, 0, 1, 0, 'China', 43.88, 125.322778),\n",
       " ('Inner Mongolia', 27, 0, 1, 0, 'China', 40.652221999999995, 109.822222),\n",
       " ('Ningxia', 28, 0, 0, 0, 'China', 38.468056, 106.27305600000001),\n",
       " ('Guizhou', 38, 0, 2, 0, 'China', 26.583333000000003, 106.71666699999999),\n",
       " ('Gansu', 40, 0, 0, 0, 'China', 36.057006, 103.83986800000001),\n",
       " ('Tianjin', 48, 0, 1, 0, 'China', 39.142222, 117.176667),\n",
       " ('Shaanxi', 56, 0, 1, 0, 'China', 34.258479, 108.924205),\n",
       " ('Hainan', 63, 0, 2, 1, 'China', 20.045833, 110.34166699999999),\n",
       " ('Liaoning', 69, 0, 1, 0, 'China', 41.792221999999995, 123.432778),\n",
       " ('Heilongjiang', 95, 0, 2, 2, 'China', 45.75, 126.65),\n",
       " ('Yunnan', 99, 0, 3, 0, 'China', 25.038889, 102.718333),\n",
       " ('Hebei', 104, 1, 3, 1, 'China', 38.041389, 114.47861100000001),\n",
       " ('Guangxi', 111, 0, 2, 0, 'China', 23.0027, 109.84),\n",
       " ('Shanxi', 116, 0, 0, 0, 'China', 37.869444, 112.560278),\n",
       " ('Fujian', 159, 0, 0, 0, 'China', 24.513333, 117.655556),\n",
       " ('Shanghai', 182, 0, 10, 1, 'China', 31.222222, 121.458056),\n",
       " ('Beijing', 191, 0, 9, 1, 'China', 39.928819, 116.388869),\n",
       " ('Shandong', 230, 0, 5, 0, 'China', 36.790556, 118.06333300000001),\n",
       " ('Sichuan', 231, 0, 3, 1, 'China', 30.666666999999997, 104.06666700000001),\n",
       " ('Jiangsu', 236, 0, 6, 0, 'China', 32.061667, 118.777778),\n",
       " ('Chongqing', 275, 0, 7, 1, 'China', 29.562778, 106.552778),\n",
       " ('Jiangxi', 333, 0, 10, 0, 'China', 28.655758000000002, 115.905049),\n",
       " ('Anhui', 340, 0, 5, 0, 'China', 31.863889, 117.280833),\n",
       " ('Hunan', 463, 0, 9, 0, 'China', 28.2, 112.96666699999999),\n",
       " ('Henan', 493, 0, 4, 2, 'China', 34.683611, 113.5325),\n",
       " ('Guangdong', 632, 0, 14, 0, 'China', 23.116667, 113.25),\n",
       " ('Zhejiang', 661, 0, 23, 0, 'China', 30.29365, 120.161419),\n",
       " ('Hubei', 9074, 0, 215, 294, 'China', 30.583333000000003, 114.266667)]"
      ]
     },
     "execution_count": 73,
     "metadata": {},
     "output_type": "execute_result"
    }
   ],
   "source": [
    "# map info\n",
    "sel = [\n",
    "        China_realtime.Provinces,\n",
    "        China_realtime.confirmedCount,\n",
    "        China_realtime.suspectedCount,\n",
    "        China_realtime.curedCount,\n",
    "        China_realtime.deadCount,\n",
    "        China_realtime.country,\n",
    "        China_realtime.lat,\n",
    "        China_realtime.lng\n",
    "    ]\n",
    "results = session.query(*sel).all()\n",
    "results"
   ]
  },
  {
   "cell_type": "code",
   "execution_count": 39,
   "metadata": {},
   "outputs": [
    {
     "data": {
      "text/plain": [
       "('Tibet', 1, 0, 0, 0, 'China', 29.65, 91.1)"
      ]
     },
     "execution_count": 39,
     "metadata": {},
     "output_type": "execute_result"
    }
   ],
   "source": [
    "results[0]"
   ]
  },
  {
   "cell_type": "code",
   "execution_count": null,
   "metadata": {},
   "outputs": [],
   "source": []
  },
  {
   "cell_type": "code",
   "execution_count": 74,
   "metadata": {},
   "outputs": [],
   "source": [
    "m = []\n",
    "for x in results:\n",
    "    jsonChina = {}\n",
    "    jsonChina[\"Provinces\"] = x[0]\n",
    "    jsonChina[\"confirmed\"] = x[1]\n",
    "    jsonChina[\"suspected\"] = x[2]\n",
    "    jsonChina[\"cured\"] = x[3]\n",
    "    jsonChina[\"dead\"] = x[4]\n",
    "    jsonChina[\"country\"] = x[5]\n",
    "    jsonChina[\"location\"] = [x[6],x[7]]\n",
    "    m.append(jsonChina)"
   ]
  },
  {
   "cell_type": "code",
   "execution_count": 75,
   "metadata": {},
   "outputs": [
    {
     "name": "stdout",
     "output_type": "stream",
     "text": [
      "[{'Provinces': 'Tibet', 'confirmed': 1, 'suspected': 0, 'cured': 0, 'dead': 0, 'country': 'China', 'location': [29.65, 91.1]}, {'Provinces': 'Macao', 'confirmed': 8, 'suspected': 0, 'cured': 0, 'dead': 0, 'country': 'China', 'location': [22.1987, 113.5439]}, {'Provinces': 'Taiwan', 'confirmed': 10, 'suspected': 0, 'cured': 0, 'dead': 0, 'country': 'China', 'location': [23.6978, 120.9605]}, {'Provinces': 'Qinghai', 'confirmed': 11, 'suspected': 0, 'cured': 0, 'dead': 0, 'country': 'China', 'location': [36.625541, 101.75739]}, {'Provinces': 'Hong Kong', 'confirmed': 14, 'suspected': 0, 'cured': 0, 'dead': 0, 'country': 'China', 'location': [22.3193, 114.1694]}, {'Provinces': 'Xinjiang', 'confirmed': 21, 'suspected': 0, 'cured': 0, 'dead': 0, 'country': 'China', 'location': [43.807347, 87.63050600000001]}, {'Provinces': 'Jilin', 'confirmed': 23, 'suspected': 0, 'cured': 1, 'dead': 0, 'country': 'China', 'location': [43.88, 125.322778]}, {'Provinces': 'Inner Mongolia', 'confirmed': 27, 'suspected': 0, 'cured': 1, 'dead': 0, 'country': 'China', 'location': [40.652221999999995, 109.822222]}, {'Provinces': 'Ningxia', 'confirmed': 28, 'suspected': 0, 'cured': 0, 'dead': 0, 'country': 'China', 'location': [38.468056, 106.27305600000001]}, {'Provinces': 'Guizhou', 'confirmed': 38, 'suspected': 0, 'cured': 2, 'dead': 0, 'country': 'China', 'location': [26.583333000000003, 106.71666699999999]}, {'Provinces': 'Gansu', 'confirmed': 40, 'suspected': 0, 'cured': 0, 'dead': 0, 'country': 'China', 'location': [36.057006, 103.83986800000001]}, {'Provinces': 'Tianjin', 'confirmed': 48, 'suspected': 0, 'cured': 1, 'dead': 0, 'country': 'China', 'location': [39.142222, 117.176667]}, {'Provinces': 'Shaanxi', 'confirmed': 56, 'suspected': 0, 'cured': 1, 'dead': 0, 'country': 'China', 'location': [34.258479, 108.924205]}, {'Provinces': 'Hainan', 'confirmed': 63, 'suspected': 0, 'cured': 2, 'dead': 1, 'country': 'China', 'location': [20.045833, 110.34166699999999]}, {'Provinces': 'Liaoning', 'confirmed': 69, 'suspected': 0, 'cured': 1, 'dead': 0, 'country': 'China', 'location': [41.792221999999995, 123.432778]}, {'Provinces': 'Heilongjiang', 'confirmed': 95, 'suspected': 0, 'cured': 2, 'dead': 2, 'country': 'China', 'location': [45.75, 126.65]}, {'Provinces': 'Yunnan', 'confirmed': 99, 'suspected': 0, 'cured': 3, 'dead': 0, 'country': 'China', 'location': [25.038889, 102.718333]}, {'Provinces': 'Hebei', 'confirmed': 104, 'suspected': 1, 'cured': 3, 'dead': 1, 'country': 'China', 'location': [38.041389, 114.47861100000001]}, {'Provinces': 'Guangxi', 'confirmed': 111, 'suspected': 0, 'cured': 2, 'dead': 0, 'country': 'China', 'location': [23.0027, 109.84]}, {'Provinces': 'Shanxi', 'confirmed': 116, 'suspected': 0, 'cured': 0, 'dead': 0, 'country': 'China', 'location': [37.869444, 112.560278]}, {'Provinces': 'Fujian', 'confirmed': 159, 'suspected': 0, 'cured': 0, 'dead': 0, 'country': 'China', 'location': [24.513333, 117.655556]}, {'Provinces': 'Shanghai', 'confirmed': 182, 'suspected': 0, 'cured': 10, 'dead': 1, 'country': 'China', 'location': [31.222222, 121.458056]}, {'Provinces': 'Beijing', 'confirmed': 191, 'suspected': 0, 'cured': 9, 'dead': 1, 'country': 'China', 'location': [39.928819, 116.388869]}, {'Provinces': 'Shandong', 'confirmed': 230, 'suspected': 0, 'cured': 5, 'dead': 0, 'country': 'China', 'location': [36.790556, 118.06333300000001]}, {'Provinces': 'Sichuan', 'confirmed': 231, 'suspected': 0, 'cured': 3, 'dead': 1, 'country': 'China', 'location': [30.666666999999997, 104.06666700000001]}, {'Provinces': 'Jiangsu', 'confirmed': 236, 'suspected': 0, 'cured': 6, 'dead': 0, 'country': 'China', 'location': [32.061667, 118.777778]}, {'Provinces': 'Chongqing', 'confirmed': 275, 'suspected': 0, 'cured': 7, 'dead': 1, 'country': 'China', 'location': [29.562778, 106.552778]}, {'Provinces': 'Jiangxi', 'confirmed': 333, 'suspected': 0, 'cured': 10, 'dead': 0, 'country': 'China', 'location': [28.655758000000002, 115.905049]}, {'Provinces': 'Anhui', 'confirmed': 340, 'suspected': 0, 'cured': 5, 'dead': 0, 'country': 'China', 'location': [31.863889, 117.280833]}, {'Provinces': 'Hunan', 'confirmed': 463, 'suspected': 0, 'cured': 9, 'dead': 0, 'country': 'China', 'location': [28.2, 112.96666699999999]}, {'Provinces': 'Henan', 'confirmed': 493, 'suspected': 0, 'cured': 4, 'dead': 2, 'country': 'China', 'location': [34.683611, 113.5325]}, {'Provinces': 'Guangdong', 'confirmed': 632, 'suspected': 0, 'cured': 14, 'dead': 0, 'country': 'China', 'location': [23.116667, 113.25]}, {'Provinces': 'Zhejiang', 'confirmed': 661, 'suspected': 0, 'cured': 23, 'dead': 0, 'country': 'China', 'location': [30.29365, 120.161419]}, {'Provinces': 'Hubei', 'confirmed': 9074, 'suspected': 0, 'cured': 215, 'dead': 294, 'country': 'China', 'location': [30.583333000000003, 114.266667]}]\n"
     ]
    }
   ],
   "source": [
    "print(m)"
   ]
  },
  {
   "cell_type": "code",
   "execution_count": null,
   "metadata": {},
   "outputs": [],
   "source": []
  }
 ],
 "metadata": {
  "kernelspec": {
   "display_name": "Python 3",
   "language": "python",
   "name": "python3"
  },
  "language_info": {
   "codemirror_mode": {
    "name": "ipython",
    "version": 3
   },
   "file_extension": ".py",
   "mimetype": "text/x-python",
   "name": "python",
   "nbconvert_exporter": "python",
   "pygments_lexer": "ipython3",
   "version": "3.7.4"
  }
 },
 "nbformat": 4,
 "nbformat_minor": 4
}
